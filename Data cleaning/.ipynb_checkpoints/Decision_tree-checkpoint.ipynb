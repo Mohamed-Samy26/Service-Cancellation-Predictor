{
 "cells": [
  {
   "cell_type": "code",
   "execution_count": 8,
   "metadata": {},
   "outputs": [
    {
     "name": "stdout",
     "output_type": "stream",
     "text": [
      "Requirement already satisfied: pandas in c:\\users\\mido_\\appdata\\local\\programs\\python\\python310\\lib\\site-packages (1.4.2)\n",
      "Requirement already satisfied: pytz>=2020.1 in c:\\users\\mido_\\appdata\\local\\programs\\python\\python310\\lib\\site-packages (from pandas) (2022.1)\n",
      "Requirement already satisfied: numpy>=1.21.0 in c:\\users\\mido_\\appdata\\local\\programs\\python\\python310\\lib\\site-packages (from pandas) (1.22.3)\n",
      "Requirement already satisfied: python-dateutil>=2.8.1 in c:\\users\\mido_\\appdata\\local\\programs\\python\\python310\\lib\\site-packages (from pandas) (2.8.2)\n",
      "Requirement already satisfied: six>=1.5 in c:\\users\\mido_\\appdata\\local\\programs\\python\\python310\\lib\\site-packages (from python-dateutil>=2.8.1->pandas) (1.16.0)\n",
      "Note: you may need to restart the kernel to use updated packages.\n"
     ]
    }
   ],
   "source": [
    "pip install pandas"
   ]
  },
  {
   "cell_type": "code",
   "execution_count": 9,
   "metadata": {},
   "outputs": [
    {
     "name": "stdout",
     "output_type": "stream",
     "text": [
      "      Unnamed: 0  gender  SeniorCitizen  Partner  Dependents    tenure  \\\n",
      "0              0     1.0            0.0      1.0         0.0 -1.280157   \n",
      "1              1     0.0            0.0      0.0         0.0  0.064298   \n",
      "2              2     0.0            0.0      0.0         0.0 -1.239416   \n",
      "3              3     0.0            0.0      0.0         0.0  0.512450   \n",
      "4              4     1.0            0.0      0.0         0.0 -1.239416   \n",
      "...          ...     ...            ...      ...         ...       ...   \n",
      "7027        7038     0.0            0.0      1.0         1.0 -0.343113   \n",
      "7028        7039     1.0            0.0      1.0         1.0  1.612459   \n",
      "7029        7040     1.0            0.0      1.0         1.0 -0.872746   \n",
      "7030        7041     0.0            1.0      1.0         0.0 -1.157934   \n",
      "7031        7042     0.0            0.0      0.0         0.0  1.368012   \n",
      "\n",
      "      PhoneService  MultipleLines  InternetService  OnlineSecurity  \\\n",
      "0              0.0            0.0              0.0             0.0   \n",
      "1              1.0            0.0              0.0             1.0   \n",
      "2              1.0            0.0              0.0             1.0   \n",
      "3              0.0            0.0              0.0             1.0   \n",
      "4              1.0            0.0              0.5             0.0   \n",
      "...            ...            ...              ...             ...   \n",
      "7027           1.0            1.0              0.0             1.0   \n",
      "7028           1.0            1.0              0.5             0.0   \n",
      "7029           0.0            0.0              0.0             1.0   \n",
      "7030           1.0            1.0              0.5             0.0   \n",
      "7031           1.0            0.0              0.5             1.0   \n",
      "\n",
      "      OnlineBackup  DeviceProtection  TechSupport  StreamingTV  \\\n",
      "0              1.0               0.0          0.0          0.0   \n",
      "1              0.0               1.0          0.0          0.0   \n",
      "2              1.0               0.0          0.0          0.0   \n",
      "3              0.0               1.0          1.0          0.0   \n",
      "4              0.0               0.0          0.0          0.0   \n",
      "...            ...               ...          ...          ...   \n",
      "7027           0.0               1.0          1.0          1.0   \n",
      "7028           1.0               1.0          0.0          1.0   \n",
      "7029           0.0               0.0          0.0          0.0   \n",
      "7030           0.0               0.0          0.0          0.0   \n",
      "7031           0.0               1.0          1.0          1.0   \n",
      "\n",
      "      StreamingMovies  Contract  PaperlessBilling  PaymentMethod  \\\n",
      "0                   0         0                 1              0   \n",
      "1                   0         1                 0              1   \n",
      "2                   0         0                 1              1   \n",
      "3                   0         1                 0              2   \n",
      "4                   0         0                 1              0   \n",
      "...               ...       ...               ...            ...   \n",
      "7027                1         1                 1              1   \n",
      "7028                1         1                 1              3   \n",
      "7029                0         0                 1              0   \n",
      "7030                0         0                 1              1   \n",
      "7031                1         2                 1              2   \n",
      "\n",
      "      MonthlyCharges  TotalCharges  \n",
      "0          -1.161611     -0.994123  \n",
      "1          -0.260859     -0.173727  \n",
      "2          -0.363897     -0.959581  \n",
      "3          -0.747797     -0.195234  \n",
      "4           0.196164     -0.940391  \n",
      "...              ...           ...  \n",
      "7027        0.664821     -0.129171  \n",
      "7028        1.276402      2.240896  \n",
      "7029       -1.169921     -0.854453  \n",
      "7030        0.319145     -0.872033  \n",
      "7031        1.357835      2.012201  \n",
      "\n",
      "[7032 rows x 20 columns]\n"
     ]
    }
   ],
   "source": [
    "from sklearn import tree\n",
    "from sklearn.model_selection import train_test_split\n",
    "from sklearn import metrics\n",
    "import pandas as pd\n",
    "import numpy as np\n",
    "# import matplotlib.pyplot as plt\n",
    "from sklearn.model_selection import train_test_split\n",
    "\n",
    "treeData = pd.read_csv(\"output_with_scaling.csv\")\n",
    "treeX = treeData.drop('Churn', axis=1)\n",
    "treeY = treeData['Churn']\n",
    "print(treeX)"
   ]
  },
  {
   "cell_type": "code",
   "execution_count": null,
   "metadata": {
    "pycharm": {
     "name": "#%%\n"
    }
   },
   "outputs": [],
   "source": []
  },
  {
   "cell_type": "code",
   "execution_count": null,
   "metadata": {
    "pycharm": {
     "name": "#%%\n"
    }
   },
   "outputs": [],
   "source": []
  }
 ],
 "metadata": {
  "kernelspec": {
   "display_name": "Python 3 (ipykernel)",
   "language": "python",
   "name": "python3"
  },
  "language_info": {
   "codemirror_mode": {
    "name": "ipython",
    "version": 3
   },
   "file_extension": ".py",
   "mimetype": "text/x-python",
   "name": "python",
   "nbconvert_exporter": "python",
   "pygments_lexer": "ipython3",
   "version": "3.10.4"
  }
 },
 "nbformat": 4,
 "nbformat_minor": 1
}
