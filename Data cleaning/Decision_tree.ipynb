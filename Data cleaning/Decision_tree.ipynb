{
 "cells": [
  {
   "cell_type": "code",
   "execution_count": 2,
   "metadata": {},
   "outputs": [],
   "source": [
    "from sklearn import tree\n",
    "from sklearn.model_selection import train_test_split\n",
    "from sklearn import metrics\n",
    "import pandas as pd\n",
    "import joblib\n",
    "import numpy as np\n",
    "import matplotlib.pyplot as plt\n",
    "from sklearn.model_selection import train_test_split\n",
    "from id3 import Id3Estimator\n",
    "from id3 import export_graphviz\n",
    "import six\n",
    "import sys\n",
    "sys.modules['sklearn.externals.six'] = six\n",
    "\n",
    "#initializing data frame and model\n",
    "treeData = pd.read_csv(\"output_with_scaling.csv\")\n",
    "treeX = treeData.drop('Churn', axis=1)\n",
    "treeY = treeData['Churn']\n",
    "# clf = tree.DecisionTreeClassifier(criterion=\"entropy\")\n",
    "estimator = Id3Estimator()\n",
    "DTx_train, DTx_test, DTy_train, DTy_test = train_test_split(treeX, treeY, test_size=0.10, random_state=101)"
   ]
  },
  {
   "cell_type": "code",
   "execution_count": 3,
   "metadata": {
    "pycharm": {
     "name": "#%%\n"
    }
   },
   "outputs": [],
   "source": [
    "# print(treeX)\n",
    "# print(treeY)"
   ]
  },
  {
   "cell_type": "code",
   "execution_count": 4,
   "metadata": {
    "pycharm": {
     "name": "#%%\n"
    }
   },
   "outputs": [],
   "source": [
    "# DTclf = clf.fit(DTx_train, DTy_train)\n",
    "# tree.plot_tree(clf)\n",
    "DTclf = estimator.fit(DTx_train, DTy_train)"
   ]
  },
  {
   "cell_type": "code",
   "execution_count": 7,
   "outputs": [
    {
     "name": "stdout",
     "output_type": "stream",
     "text": [
      "Accuracy : 76.2784090909091 %\n",
      "Precision : 0.4382716049382716\n",
      "Recall : 0.48299319727891155\n"
     ]
    }
   ],
   "source": [
    "pred = DTclf.predict(DTx_test)\n",
    "treePDF = export_graphviz(estimator.tree_, 'tree.pdf', treeData.columns)\n",
    "print(\"Accuracy :\", metrics.accuracy_score(DTy_test, y_pred=pred) * 100, '%')\n",
    "print(\"Precision :\", metrics.precision_score(DTy_test, y_pred=pred))\n",
    "print(\"Recall :\", metrics.recall_score(DTy_test, y_pred=pred))"
   ],
   "metadata": {
    "collapsed": false,
    "pycharm": {
     "name": "#%%\n"
    }
   }
  },
  {
   "cell_type": "code",
   "execution_count": null,
   "outputs": [],
   "source": [
    "import joblib\n",
    "joblib.dump(DTclf, \"Decision_Tree_model.dt\")"
   ],
   "metadata": {
    "collapsed": false,
    "pycharm": {
     "name": "#%%\n"
    }
   }
  },
  {
   "cell_type": "code",
   "execution_count": null,
   "outputs": [],
   "source": [],
   "metadata": {
    "collapsed": false,
    "pycharm": {
     "name": "#%%\n"
    }
   }
  }
 ],
 "metadata": {
  "kernelspec": {
   "display_name": "Python 3 (ipykernel)",
   "language": "python",
   "name": "python3"
  },
  "language_info": {
   "codemirror_mode": {
    "name": "ipython",
    "version": 3
   },
   "file_extension": ".py",
   "mimetype": "text/x-python",
   "name": "python",
   "nbconvert_exporter": "python",
   "pygments_lexer": "ipython3",
   "version": "3.10.4"
  }
 },
 "nbformat": 4,
 "nbformat_minor": 1
}