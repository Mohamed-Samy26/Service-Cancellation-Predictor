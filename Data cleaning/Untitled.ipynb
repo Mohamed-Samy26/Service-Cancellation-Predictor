{
 "cells": [
  {
   "cell_type": "code",
   "execution_count": 1,
   "id": "5420d918",
   "metadata": {
    "pycharm": {
     "name": "#%%\n"
    }
   },
   "outputs": [
    {
     "data": {
      "text/plain": [
       "(7032, 21)"
      ]
     },
     "execution_count": 1,
     "metadata": {},
     "output_type": "execute_result"
    }
   ],
   "source": [
    "import pandas as pd\n",
    "import numpy as np\n",
    "import matplotlib.pyplot as plt\n",
    "from sklearn.model_selection import train_test_split\n",
    "from sklearn import svm\n",
    "from sklearn import metrics\n",
    "data = pd.read_csv(\"output_without_scaling.csv\")\n",
    "\n",
    "data.shape\n"
   ]
  },
  {
   "cell_type": "code",
   "execution_count": 2,
   "id": "882a3d94",
   "metadata": {
    "pycharm": {
     "name": "#%%\n"
    }
   },
   "outputs": [
    {
     "name": "stdout",
     "output_type": "stream",
     "text": [
      "      Unnamed: 0  gender  SeniorCitizen  Partner  Dependents  tenure  \\\n",
      "0              0       1              0        1           0       1   \n",
      "1              1       0              0        0           0      34   \n",
      "2              2       0              0        0           0       2   \n",
      "3              3       0              0        0           0      45   \n",
      "4              4       1              0        0           0       2   \n",
      "...          ...     ...            ...      ...         ...     ...   \n",
      "7027        7038       0              0        1           1      24   \n",
      "7028        7039       1              0        1           1      72   \n",
      "7029        7040       1              0        1           1      11   \n",
      "7030        7041       0              1        1           0       4   \n",
      "7031        7042       0              0        0           0      66   \n",
      "\n",
      "      PhoneService  MultipleLines  InternetService  OnlineSecurity  \\\n",
      "0                0              0                0               0   \n",
      "1                1              0                0               1   \n",
      "2                1              0                0               1   \n",
      "3                0              0                0               1   \n",
      "4                1              0                1               0   \n",
      "...            ...            ...              ...             ...   \n",
      "7027             1              1                0               1   \n",
      "7028             1              1                1               0   \n",
      "7029             0              0                0               1   \n",
      "7030             1              1                1               0   \n",
      "7031             1              0                1               1   \n",
      "\n",
      "      OnlineBackup  DeviceProtection  TechSupport  StreamingTV  \\\n",
      "0                1                 0            0            0   \n",
      "1                0                 1            0            0   \n",
      "2                1                 0            0            0   \n",
      "3                0                 1            1            0   \n",
      "4                0                 0            0            0   \n",
      "...            ...               ...          ...          ...   \n",
      "7027             0                 1            1            1   \n",
      "7028             1                 1            0            1   \n",
      "7029             0                 0            0            0   \n",
      "7030             0                 0            0            0   \n",
      "7031             0                 1            1            1   \n",
      "\n",
      "      StreamingMovies  Contract  PaperlessBilling  PaymentMethod  \\\n",
      "0                   0         0                 1              0   \n",
      "1                   0         1                 0              1   \n",
      "2                   0         0                 1              1   \n",
      "3                   0         1                 0              2   \n",
      "4                   0         0                 1              0   \n",
      "...               ...       ...               ...            ...   \n",
      "7027                1         1                 1              1   \n",
      "7028                1         1                 1              3   \n",
      "7029                0         0                 1              0   \n",
      "7030                0         0                 1              1   \n",
      "7031                1         2                 1              2   \n",
      "\n",
      "      MonthlyCharges  TotalCharges  \n",
      "0              29.85         29.85  \n",
      "1              56.95       1889.50  \n",
      "2              53.85        108.15  \n",
      "3              42.30       1840.75  \n",
      "4              70.70        151.65  \n",
      "...              ...           ...  \n",
      "7027           84.80       1990.50  \n",
      "7028          103.20       7362.90  \n",
      "7029           29.60        346.45  \n",
      "7030           74.40        306.60  \n",
      "7031          105.65       6844.50  \n",
      "\n",
      "[7032 rows x 20 columns]\n"
     ]
    }
   ],
   "source": [
    "x = data.drop('Churn', axis=1)\n",
    "y = data['Churn']\n",
    "print(x)"
   ]
  },
  {
   "cell_type": "code",
   "execution_count": 3,
   "id": "3a730843",
   "metadata": {
    "pycharm": {
     "name": "#%%\n"
    }
   },
   "outputs": [
    {
     "name": "stdout",
     "output_type": "stream",
     "text": [
      "0       0\n",
      "1       0\n",
      "2       1\n",
      "3       0\n",
      "4       1\n",
      "       ..\n",
      "7027    0\n",
      "7028    0\n",
      "7029    0\n",
      "7030    1\n",
      "7031    0\n",
      "Name: Churn, Length: 7032, dtype: int64\n"
     ]
    }
   ],
   "source": [
    "x_train, x_test, y_train, y_test = train_test_split(x, y, test_size=0.20, random_state=200)\n",
    "print(y)"
   ]
  },
  {
   "cell_type": "code",
   "execution_count": 4,
   "id": "ee3c2184",
   "metadata": {
    "pycharm": {
     "name": "#%%\n"
    }
   },
   "outputs": [
    {
     "name": "stdout",
     "output_type": "stream",
     "text": [
      "1\n"
     ]
    }
   ],
   "source": [
    "\n",
    "cls = svm.SVC(kernel=\"linear\")\n",
    "print(1)"
   ]
  },
  {
   "cell_type": "code",
   "execution_count": null,
   "id": "c308233a",
   "metadata": {
    "pycharm": {
     "name": "#%%\n"
    }
   },
   "outputs": [],
   "source": [
    "cls.fit(x_train , y_train)\n",
    "print(1)"
   ]
  },
  {
   "cell_type": "code",
   "execution_count": null,
   "id": "38175d94",
   "metadata": {
    "pycharm": {
     "name": "#%%\n"
    }
   },
   "outputs": [],
   "source": [
    "\n",
    "pred = cls.predict(x_test)\n",
    "print(\"accuracy ::\" , metrics.accuracy_score(y_test,y_pred=pred))\n",
    "print(\"precision ::\" , metrics.precision_score(y_test,y_pred=pred))\n",
    "print(\"recall ::\" , metrics.recall_score(y_test,y_pred=pred))\n"
   ]
  }
 ],
 "metadata": {
  "kernelspec": {
   "display_name": "Python 3 (ipykernel)",
   "language": "python",
   "name": "python3"
  },
  "language_info": {
   "codemirror_mode": {
    "name": "ipython",
    "version": 3
   },
   "file_extension": ".py",
   "mimetype": "text/x-python",
   "name": "python",
   "nbconvert_exporter": "python",
   "pygments_lexer": "ipython3",
   "version": "3.9.7"
  }
 },
 "nbformat": 4,
 "nbformat_minor": 5
}